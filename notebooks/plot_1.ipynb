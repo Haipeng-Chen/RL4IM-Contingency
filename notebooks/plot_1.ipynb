{
 "cells": [
  {
   "cell_type": "code",
   "execution_count": 96,
   "metadata": {},
   "outputs": [],
   "source": [
    "import os\n",
    "import sys\n",
    "import json\n",
    "import itertools\n",
    "\n",
    "import json\n",
    "import matplotlib.pyplot as plt\n",
    "import numpy as np\n",
    "\n",
    "\n",
    "%matplotlib inline\n",
    "# %config InlineBackend.figure_format = 'retina'\n",
    "\n",
    "from IPython.display import set_matplotlib_formats\n",
    "# set_matplotlib_formats('retina')\n",
    "import matplotlib as mpl\n",
    "mpl.rcParams['figure.dpi'] = 300\n",
    "plt.rcParams['figure.constrained_layout.use'] = True"
   ]
  },
  {
   "cell_type": "code",
   "execution_count": 135,
   "metadata": {},
   "outputs": [],
   "source": [
    "colors = {\n",
    "        'RL4IM': 'darkorchid',\n",
    "        'A': 'darkorchid',\n",
    "        'B': 'darkorchid',\n",
    "        'C': 'deeppink',\n",
    "        'D': 'olive',\n",
    "        'E': 'teal',\n",
    "        'CHANGE': 'darkorange',\n",
    "        'G': 'purple',\n",
    "        'H': 'royalblue',\n",
    "        'I': 'orangered',\n",
    "        'Kahlil et al. 2017': 'dodgerblue',\n",
    "        'K': 'chocolate',\n",
    "        'L': 'turquoise',\n",
    "        'M': 'green',\n",
    "        'N': 'black',\n",
    "        'Random': 'red',\n",
    "        'P': 'cyan',\n",
    "        'Q': 'teal',\n",
    "        'CELF': 'cyan',\n",
    "        'S': 'turquoise',\n",
    "        'T': 'slateblue',\n",
    "}"
   ]
  },
  {
   "cell_type": "code",
   "execution_count": 136,
   "metadata": {},
   "outputs": [],
   "source": [
    "def convert_labels(labels):\n",
    "    for i, label in enumerate(labels):\n",
    "        if label == '500K':\n",
    "            labels[i] = '0.5M'\n",
    "        if label == '1000K':\n",
    "            labels[i] = '1M'\n",
    "    return labels"
   ]
  },
  {
   "cell_type": "code",
   "execution_count": 163,
   "metadata": {},
   "outputs": [
    {
     "name": "stdout",
     "output_type": "stream",
     "text": [
      "method: CHANGE, runs: [47, 48, 49, 50]\n",
      "method: CELF, runs: [56, 57, 58, 59]\n",
      "method: Random, runs: [43, 44, 45, 45]\n"
     ]
    }
   ],
   "source": [
    "#script to process test results\n",
    "data_root = \"data/test\"\n",
    "test_influence = {}\n",
    "\n",
    "#runs = [360, 361, 389, 363, 364] #RL4IM Exp 2.1.1\n",
    "#runs = [371, 372, 373, 374, 375] #baseRL Exp 2.2.1\n",
    "#runs = [352, 353, 354, 355, 356] #random Exp 2.4\n",
    "#runs = [360, 361, 389, 363, 364] #RL4IM Exp 2.1.1\n",
    "#runs = [371, 372, 373, 374, 375] #baseRL Exp 2.2.1\n",
    "#runs = [352, 353, 354, 355, 356] #random Exp 2.4\n",
    "#runs = [10001, 10002, 10003, 10004, 10005]\n",
    "#runs = [1, 2, 3, 4, 5] # ada_greedy Exp 2.3\n",
    "\n",
    "#runs = [360, 361, 389, 363, 364] #RL4IM Exp 2.1.1\n",
    "#runs = [371, 372, 373, 374, 375] #baseRL Exp 2.2.1\n",
    "#runs = [352, 353, 354, 355, 356] #random Exp 2.4\n",
    "#runs = [1, 2, 3, 4, 5] #ada_greedy Exp 2.3 \n",
    "#runs = [10053, 10054, 10055, 10056, 10058] #greedy Exp 2.5\n",
    "\n",
    "runs = os.listdir(data_root)\n",
    "\n",
    "#Q2:\n",
    "runs = {\n",
    "    'CHANGE': [17, 18, 21, 19, 20],\n",
    "    'CELF': [23, 25, 24, 27, 26],\n",
    "    'Random': [28, 29, 30, 31, 32],\n",
    "    #'Kahlil et al. 2017': [371, 372, 373, 374, 375],\n",
    "    #'RL4IM': []\n",
    "}\n",
    "\n",
    "#Q3:\n",
    "runs = {\n",
    "    'CHANGE': [47, 48, 49, 50],\n",
    "    'CELF': [56, 57, 58, 59],\n",
    "    'Random': [43, 44, 45, 45],\n",
    "    #'Kahlil et al. 2017': [],\n",
    "    #'RL4IM': []\n",
    "}\n",
    "\n",
    "\n",
    "for method, run_ids in runs.items():\n",
    "    test_influence[method] = {}\n",
    "    test_influence[method]['raw_data'] = []\n",
    "    test_influence[method]['mean_std'] = []\n",
    "    \n",
    "    print(f'method: {method}, runs: {run_ids}')\n",
    "    for r in run_ids:\n",
    "        \n",
    "        with open(os.path.join(data_root, str(r), 'test_mode_results.json')) as f:\n",
    "            test_influence[method]['raw_data'].append(json.load(f)['episode_accumulated_rewards'])\n",
    "\n",
    "        test_influence[method]['mean_std'].append((np.mean(test_influence[method]['raw_data']), np.std(test_influence[method]['raw_data'])))\n",
    "    \n",
    "    test_influence[method]['mean_std'] = (np.array([mean for mean, std in test_influence[method]['mean_std']]), \n",
    "                                          np.array([std for mean, std in test_influence[method]['mean_std']]))\n",
    "    \n",
    "    #print(method)\n",
    "    mean, std = test_influence[method]['mean_std']\n",
    "    for m in mean:\n",
    "        print(m)\n",
    "    for s in std:\n",
    "        print(s)"
   ]
  },
  {
   "cell_type": "code",
   "execution_count": 164,
   "metadata": {},
   "outputs": [
    {
     "data": {
      "text/plain": [
       "3"
      ]
     },
     "execution_count": 164,
     "metadata": {},
     "output_type": "execute_result"
    }
   ],
   "source": [
    "len(test_influence.keys())"
   ]
  },
  {
   "cell_type": "code",
   "execution_count": 165,
   "metadata": {},
   "outputs": [],
   "source": [
    "def plot_algo(ax, algo_name, algo_label, algo_mean, algo_std, lw, alpha=0.3):\n",
    "    ax.plot(range(len(algo_mean)), algo_mean, label=algo_label, lw=lw, color=colors[algo_name])\n",
    "    ax.fill_between(range(len(algo_mean)), \n",
    "                    algo_mean+algo_std, \n",
    "                    algo_mean-algo_std,\n",
    "                    facecolor=colors[algo_name], \n",
    "                    alpha=alpha)"
   ]
  },
  {
   "cell_type": "code",
   "execution_count": 166,
   "metadata": {},
   "outputs": [],
   "source": [
    "def plot_figures(data, plot_legend=True):\n",
    "    fig = plt.figure()\n",
    "    lw = 1\n",
    "    # fig.subplots_adjust(hspace=0.4, wspace=0.4)\n",
    "    col = 1   # graph name\n",
    "    nrows = 1 # runs\n",
    "    alpha_shade = 0.18\n",
    "\n",
    "    fig, ax = plt.subplots(nrows=nrows, ncols=col, figsize=(4,3))\n",
    "    \n",
    "    for methd, data in data.items():\n",
    "            \n",
    "        mean, std = data['mean_std']\n",
    "\n",
    "        plot_algo(ax, algo_name=methd, algo_label=methd, algo_mean=mean, algo_std=std, lw=lw, alpha=alpha_shade)\n",
    "\n",
    "    ax.set_xlabel('q', fontsize=12)\n",
    "    ax.set_ylabel('Rewards', fontsize=12)\n",
    "    ax.spines['right'].set_visible(True)\n",
    "    ax.spines['top'].set_visible(True)\n",
    "    ax.grid(color='grey', ls = ':', lw=0.5)\n",
    "\n",
    "    #ax.spines['right'].set_color((.5,.5,.5))\n",
    "    #ax.spines['top'].set_color((.9,.9,.9))\n",
    "\n",
    "    #print(xlabels)\n",
    "    ax.set_xticks(range(0, 5))\n",
    "    ax.set_xticklabels([0.2, 0.4, 0.6, 0.8, 1.0])\n",
    "\n",
    "    #ax.set_yticks([0, 25, 50, 75, 100])\n",
    "    #print(ax.get_xticks())\n",
    "\n",
    "    ax.xaxis.set_tick_params(labelsize=10)\n",
    "    ax.yaxis.set_tick_params(labelsize=10)\n",
    "    \n",
    "    legend = fig.legend(loc='upper center', bbox_to_anchor=(0.5, 1.1), fontsize=12, ncol=12, frameon=False)\n",
    "    # legend = ax.legend(fontsize=6, frameon=False)\n",
    "    for line in legend.get_lines():\n",
    "        line.set_linewidth(3)\n",
    "    ax.set_title(f'results', fontsize=12)\n",
    "    \n",
    "    os.makedirs('./images', exist_ok=True)\n",
    "    plt.savefig(f'./images/plot_1.pdf', bbox_inches='tight')"
   ]
  },
  {
   "cell_type": "code",
   "execution_count": 167,
   "metadata": {},
   "outputs": [
    {
     "data": {
      "text/plain": [
       "<Figure size 1800x1200 with 0 Axes>"
      ]
     },
     "metadata": {},
     "output_type": "display_data"
    },
    {
     "data": {
      "text/plain": [
       "<Figure size 1200x900 with 1 Axes>"
      ]
     },
     "metadata": {
      "needs_background": "light"
     },
     "output_type": "display_data"
    }
   ],
   "source": [
    "plot_figures(test_influence, plot_legend=True)"
   ]
  },
  {
   "cell_type": "code",
   "execution_count": null,
   "metadata": {},
   "outputs": [],
   "source": []
  }
 ],
 "metadata": {
  "kernelspec": {
   "display_name": "Python 3",
   "language": "python",
   "name": "python3"
  },
  "language_info": {
   "codemirror_mode": {
    "name": "ipython",
    "version": 3
   },
   "file_extension": ".py",
   "mimetype": "text/x-python",
   "name": "python",
   "nbconvert_exporter": "python",
   "pygments_lexer": "ipython3",
   "version": "3.7.6"
  }
 },
 "nbformat": 4,
 "nbformat_minor": 5
}
